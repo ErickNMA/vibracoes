{
 "cells": [
  {
   "attachments": {},
   "cell_type": "markdown",
   "metadata": {},
   "source": [
    "From Miguel Lukas and Gabriel Medeiros, adapted by Erick."
   ]
  },
  {
   "cell_type": "code",
   "execution_count": 116,
   "metadata": {},
   "outputs": [],
   "source": [
    "import numpy as np\n",
    "import sympy as sp\n",
    "import matplotlib.pyplot as plt\n",
    "\n",
    "#Exibição dos gráficos em janela externa:\n",
    "%matplotlib qt\n",
    "plt.rcParams['lines.linewidth'] = 3\n",
    "plt.rcParams['font.size'] = 20"
   ]
  },
  {
   "cell_type": "code",
   "execution_count": 117,
   "metadata": {},
   "outputs": [],
   "source": [
    "m1 = 1.063177 #kg\n",
    "m2 = 1.063177 #kg\n",
    "\n",
    "k1 = 249.5116*4 #N/m\n",
    "k2 = 249.5116*4 #N/m\n",
    "\n",
    "M = np.array([\n",
    "    [m1, 0],\n",
    "    [0, m2]\n",
    "])\n",
    "\n",
    "K = np.array([\n",
    "    [k1+k2, -k2],\n",
    "    [-k2, k2]\n",
    "])\n",
    "\n",
    "# Condições Iniciais\n",
    "X0 = np.array([\n",
    "    [0.002034],\n",
    "    [0]\n",
    "])\n",
    "\n",
    "V0 = np.array([\n",
    "    [0],\n",
    "    [0]\n",
    "])"
   ]
  },
  {
   "cell_type": "code",
   "execution_count": 118,
   "metadata": {},
   "outputs": [
    {
     "name": "stdout",
     "output_type": "stream",
     "text": [
      "[[0.96983357 0.        ]\n",
      " [0.         0.96983357]]\n",
      "[[1877.47929084 -938.73964542]\n",
      " [-938.73964542  938.73964542]]\n"
     ]
    }
   ],
   "source": [
    "# Calculando M^(-1/2)\n",
    "M_12 = np.zeros((2,2))\n",
    "\n",
    "for i in range(len(M)):\n",
    "    for j in range(len(M)):\n",
    "        if i == j:\n",
    "            M_12[i][j] = 1/np.sqrt(M[i][j])\n",
    "\n",
    "# Calculando K~\n",
    "K_ = M_12 @ K @ M_12\n",
    "\n",
    "print(M_12)\n",
    "print(K_)"
   ]
  },
  {
   "cell_type": "code",
   "execution_count": 119,
   "metadata": {},
   "outputs": [
    {
     "name": "stdout",
     "output_type": "stream",
     "text": [
      "Autovalores:\n",
      "358.56663796388267 2457.652298299787\n",
      "Frequências:\n",
      "18.93585588147213 49.57471430376364\n",
      "Autovetores:\n",
      "[0.525731112119134 0.850650808352039]\n",
      "[0.850650808352040 -0.525731112119134]\n"
     ]
    }
   ],
   "source": [
    "# Encontrando os autovalores\n",
    "lamb = sp.Symbol('lamb')\n",
    "lamb_I = np.identity(2)*lamb\n",
    "\n",
    "A = sp.Matrix(K_ - lamb_I)\n",
    "det = A.det()\n",
    "\n",
    "autovalores = sp.solve(det,lamb)\n",
    "\n",
    "lambda_1 = float(autovalores[0])\n",
    "lambda_2 = float(autovalores[1])\n",
    "\n",
    "print(\"Autovalores:\")\n",
    "print(lambda_1, lambda_2)\n",
    "\n",
    "# Encontrando as frequências naturais\n",
    "w_1 = np.sqrt(lambda_1)\n",
    "w_2 = np.sqrt(lambda_2)\n",
    "\n",
    "print(\"Frequências:\")\n",
    "print(w_1, w_2)\n",
    "\n",
    "# Encontrando os autovetores normalizados\n",
    "A1 = A.subs({lamb:lambda_1})\n",
    "A2 = A.subs({lamb:lambda_2})\n",
    "\n",
    "v1, v2 = sp.symbols('v1 v2')\n",
    "\n",
    "v = np.array([[v1],\n",
    "              [v2]])\n",
    "\n",
    "zeros = np.zeros((2, 1))\n",
    "\n",
    "B1 = sp.Matrix(A1 @ v)\n",
    "B2 = sp.Matrix(A2 @ v)\n",
    "\n",
    "eq = sp.Eq(v1**2 + v2**2, 1)\n",
    "autovetor_1 = np.array(sp.solve([B1[0], eq], (v1, v2))[1])\n",
    "autovetor_2 = np.array(sp.solve([B2[0], eq], (v1, v2))[1])\n",
    "\n",
    "print(\"Autovetores:\")\n",
    "print(autovetor_1)\n",
    "print(autovetor_2)"
   ]
  },
  {
   "cell_type": "code",
   "execution_count": 120,
   "metadata": {},
   "outputs": [
    {
     "name": "stdout",
     "output_type": "stream",
     "text": [
      "P:\n",
      "[[ 0.52573111  0.85065081]\n",
      " [ 0.85065081 -0.52573111]]\n",
      "S:\n",
      "[[ 0.50987168  0.82498971]\n",
      " [ 0.82498971 -0.50987168]]\n",
      "S^(-1):\n",
      "[[ 0.54208385  0.87711009]\n",
      " [ 0.87711009 -0.54208385]]\n"
     ]
    }
   ],
   "source": [
    "# Montando a matriz P (matriz de autovetores)\n",
    "P = np.array([[float(autovetor_1[0]), float(autovetor_2[0])],\n",
    "              [float(autovetor_1[1]), float(autovetor_2[1])]])\n",
    "\n",
    "# Montando a matriz S\n",
    "S = M_12 @ P\n",
    "\n",
    "# Montando a matriz S^(-1)\n",
    "S_1 = np.linalg.inv(S)\n",
    "\n",
    "print(\"P:\")\n",
    "print(P)\n",
    "print(\"S:\")\n",
    "print(S)\n",
    "print(\"S^(-1):\")\n",
    "print(S_1)"
   ]
  },
  {
   "cell_type": "code",
   "execution_count": 121,
   "metadata": {},
   "outputs": [
    {
     "name": "stdout",
     "output_type": "stream",
     "text": [
      "[[0.0011026 ]\n",
      " [0.00178404]] [[0.]\n",
      " [0.]]\n",
      "0.0011026183891251152 0.001784074030225091\n",
      "[1.56479629] [1.56479629]\n"
     ]
    }
   ],
   "source": [
    "r0 = S_1 @ X0\n",
    "r0_dot = S_1 @ V0\n",
    "\n",
    "print(r0, r0_dot)\n",
    "\"\"\"\"\"\n",
    "A1 = ((np.sqrt((w_1**2)*(r0[0]**2)+(r0_dot[0]**2)))/w_1)[0]\n",
    "A2 = ((np.sqrt((w_2**2)*(r0[1]**2)+(r0_dot[1]**2)))/w_2)[0]\n",
    "\"\"\"\n",
    "\n",
    "# Amortecido:\n",
    "zeta = 0.006\n",
    "\n",
    "wd1 = w_1*np.sqrt(1-(zeta**2))\n",
    "wd2 = w_2*np.sqrt(1-(zeta**2))\n",
    "\n",
    "print(wd1, wd2)\n",
    "\n",
    "A1 = np.sqrt((((r0_dot[0] + zeta*w_1*r0[0])**2)+((r0[0]*wd1)**2))/(wd1**2))[0]\n",
    "A2 = np.sqrt((((r0_dot[1] + zeta*w_2*r0[1])**2)+((r0[1]*wd2)**2))/(wd2**2))[0]\n",
    "\n",
    "print(A1, A2)\n",
    "\n",
    "\"\"\"\"\"\n",
    "phi1 = np.arctan((w_1*r0[0])/(r0_dot[0]))\n",
    "phi2 = np.arctan((w_2*r0[1])/(r0_dot[1]))\n",
    "\"\"\"\n",
    "\n",
    "phi1 = np.arctan((r0[0]*wd1)/(r0_dot[0]+(zeta*w_1*r0[0])))\n",
    "phi2 = np.arctan((r0[1]*wd2)/(r0_dot[1]+(zeta*w_2*r0[1])))\n",
    "\n",
    "\n",
    "\n",
    "if (r0_dot[0]+(zeta*w_1*r0[0])) == 0: phi1 = np.pi/2\n",
    "if (r0_dot[1]+(zeta*w_2*r0[1])) == 0: phi2 = np.pi/2\n",
    "\n",
    "print(phi1, phi2)\n",
    "\n",
    "A = np.array([[A1],\n",
    "              [A2]])\n",
    "\n",
    "X = S @ A\n",
    "\n",
    "# Formas modais\n",
    "\n",
    "def r_1(t):\n",
    "    return A[0]*np.sin(wd1*t+phi1)*np.exp(-zeta*w_1*t)\n",
    "\n",
    "def r_2(t):\n",
    "    return A[1]*np.sin(wd2*t+phi2)*np.exp(-zeta*w_2*t)\n",
    "\n",
    "# Resposta temporal\n",
    "\n",
    "def x_1(t):\n",
    "    return S[0][0]*A[0]*np.sin(wd1*t+phi1)*np.exp(-zeta*w_1*t) + S[0][1]*A[1]*np.sin(wd2*t+phi2)*np.exp(-zeta*w_2*t)\n",
    "\n",
    "def x_2(t):\n",
    "    return S[1][0]*A[0]*np.sin(wd1*t+phi1)*np.exp(-zeta*wd1*t) + S[1][1]*A[1]*np.sin(wd2*t+phi2)*np.exp(-zeta*w_2*t)"
   ]
  },
  {
   "cell_type": "code",
   "execution_count": 122,
   "metadata": {},
   "outputs": [],
   "source": [
    "# Plotando as formas modais\n",
    "\n",
    "t0 = 0\n",
    "tf = 25\n",
    "Ts = 1e-2\n",
    "time = np.arange(t0, tf, Ts)\n",
    "\n",
    "r1 = r_1(time)\n",
    "r2 = r_2(time)\n",
    "\n",
    "#plt.figure(2)\n",
    "\n",
    "plt.figure(1)\n",
    "plt.plot(time, r1, 'yellow', label='$r_1$')\n",
    "plt.plot(time, r2, 'orange', label='$r_2$')\n",
    "plt.ylabel('Deslocamento [m]')\n",
    "plt.xlabel('tempo [s]')\n",
    "#plt.xlim(0, 1)\n",
    "plt.legend(loc='upper right')\n",
    "plt.grid()\n",
    "plt.show()"
   ]
  },
  {
   "cell_type": "code",
   "execution_count": 123,
   "metadata": {},
   "outputs": [],
   "source": [
    "# Plotando a resposta no tempo\n",
    "\n",
    "t0 = 0\n",
    "tf = 25\n",
    "Ts = 1e-2\n",
    "time = np.arange(t0, tf, Ts)\n",
    "\n",
    "x1 = x_1(time)\n",
    "x2 = x_2(time)\n",
    "\n",
    "a1 = np.gradient(np.gradient(x1))\n",
    "a2 = np.gradient(np.gradient(x2))\n",
    "\n",
    "plt.figure(2)\n",
    "#plt.plot(time, x1+x2, 'purple')\n",
    "plt.plot(time, a1, 'blue', label='${x_1}_{(t)}$')\n",
    "plt.plot(time, a2, 'red', label='${x_2}_{(t)}$')\n",
    "plt.xlabel('tempo [s]')\n",
    "plt.ylabel('Deslocamento [m]')\n",
    "#plt.xlim(0, 1)\n",
    "plt.legend(loc='lower right')\n",
    "plt.grid()"
   ]
  },
  {
   "cell_type": "code",
   "execution_count": 124,
   "metadata": {},
   "outputs": [
    {
     "name": "stdout",
     "output_type": "stream",
     "text": [
      "Frequências de Ressonância\n",
      "x1(s):  49.51150022057514\n",
      "x2(s):  18.84955592153876\n"
     ]
    }
   ],
   "source": [
    "# Plotando a resposta em frequência\n",
    "\n",
    "def fft(signal, t):\n",
    "    fft = np.fft.fft(signal)\n",
    "\n",
    "    T = t[1] - t[0]\n",
    "    N = signal.shape[0]\n",
    "\n",
    "    f = np.fft.fftfreq(len(signal), T)\n",
    "\n",
    "    freqs = f[:N // 2]*2*np.pi\n",
    "    amplitudes = np.abs(fft)[:N // 2] * (1 / N)\n",
    "\n",
    "    return freqs, amplitudes\n",
    "\n",
    "fft_x1 = fft(x1, time)\n",
    "fft_x2 = fft(x2, time)\n",
    "\n",
    "# Frequências de ressonância\n",
    "freq_res_x1 = fft_x1[0][np.where(fft_x1[1]==np.max(fft_x1[1]))]\n",
    "freq_res_x2 = fft_x2[0][np.where(fft_x2[1]==np.max(fft_x2[1]))]\n",
    "\n",
    "\"\"\"\"\"\n",
    "# Amplitude em função de frequência\n",
    "plt.plot((fft_x1[0]/(2*np.pi)), fft_x1[1], 'green', label='${x_1}(j\\omega)$')\n",
    "plt.plot((fft_x2[0]/(2*np.pi)), fft_x2[1], 'purple', label='${x_2}(j\\omega)$')\n",
    "plt.plot([7.8, 7.8], [0, 0.0006], 'gray', linestyle='dashed', label='Frequência de ressonância')\n",
    "plt.plot([3, 3], [0, 0.0006], 'gray', linestyle='dashed')\n",
    "plt.xlabel('frequência [Hz]')\n",
    "plt.ylabel('Amplitude [m]')\n",
    "plt.legend()\n",
    "plt.xlim(0, 13)\n",
    "#plt.ylim(0, 0.01)\n",
    "plt.grid()\n",
    "plt.show()\n",
    "\"\"\"\n",
    "\n",
    "\n",
    "print(\"Frequências de Ressonância\")\n",
    "print(\"x1(s): \", freq_res_x1[0])\n",
    "print(\"x2(s): \", freq_res_x2[0])"
   ]
  }
 ],
 "metadata": {
  "kernelspec": {
   "display_name": "Python 3",
   "language": "python",
   "name": "python3"
  },
  "language_info": {
   "codemirror_mode": {
    "name": "ipython",
    "version": 3
   },
   "file_extension": ".py",
   "mimetype": "text/x-python",
   "name": "python",
   "nbconvert_exporter": "python",
   "pygments_lexer": "ipython3",
   "version": "3.11.0 (main, Oct 24 2022, 18:26:48) [MSC v.1933 64 bit (AMD64)]"
  },
  "orig_nbformat": 4,
  "vscode": {
   "interpreter": {
    "hash": "c2b9a9954fdc57c60aba3cd7b2ebbcfed9653792749b9e4128320be8c19325b9"
   }
  }
 },
 "nbformat": 4,
 "nbformat_minor": 2
}
